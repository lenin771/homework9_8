{
 "cells": [
  {
   "cell_type": "code",
   "execution_count": 1,
   "id": "381e2641",
   "metadata": {},
   "outputs": [],
   "source": [
    "# 1) Даны значения величины заработной платы заемщиков банка (zp) и значения их поведенческого кредитного скоринга (ks):\n",
    "# zp = [35, 45, 190, 200, 40, 70, 54, 150, 120, 110],\n",
    "# ks = [401, 574, 874, 919, 459, 739, 653, 902, 746, 832].\n",
    "# Найдите ковариацию этих двух величин с помощью элементарных действий, а затем с помощью функции cov из numpy\n",
    "# Полученные значения должны быть равны.\n",
    "# Найдите коэффициент корреляции Пирсона с помощью ковариации и среднеквадратичных отклонений двух признаков, \n",
    "# а затем с использованием функций из библиотек numpy и pandas."
   ]
  },
  {
   "cell_type": "code",
   "execution_count": 2,
   "id": "03fb1c56",
   "metadata": {},
   "outputs": [],
   "source": [
    "import numpy as np\n",
    "import pandas as pd\n",
    "from scipy.stats import t"
   ]
  },
  {
   "cell_type": "code",
   "execution_count": 3,
   "id": "01f90fd4",
   "metadata": {},
   "outputs": [],
   "source": [
    "zp=np.array([35, 45, 190, 200, 40, 70, 54, 150, 120, 110])\n",
    "ks=np.array([401, 574, 874, 919, 459, 739, 653, 902, 746, 832])\n",
    "\n",
    "zp_=pd.Series([35, 45, 190, 200, 40, 70, 54, 150, 120, 110])\n",
    "ks_=pd.Series([401, 574, 874, 919, 459, 739, 653, 902, 746, 832])"
   ]
  },
  {
   "cell_type": "code",
   "execution_count": 4,
   "id": "ed2517ec",
   "metadata": {},
   "outputs": [
    {
     "data": {
      "text/plain": [
       "(9157.839999999997,\n",
       " array([[ 3494.64,  9157.84],\n",
       "        [ 9157.84, 30468.89]]))"
      ]
     },
     "execution_count": 4,
     "metadata": {},
     "output_type": "execute_result"
    }
   ],
   "source": [
    "cov=np.mean(zp*ks)-np.mean(zp)*np.mean(ks)\n",
    "cov_=np.cov(zp,ks,ddof=0)\n",
    "cov, cov_"
   ]
  },
  {
   "cell_type": "code",
   "execution_count": 5,
   "id": "b2d07d09",
   "metadata": {},
   "outputs": [
    {
     "data": {
      "text/plain": [
       "(0.8874900920739158,\n",
       " array([[1.        , 0.88749009],\n",
       "        [0.88749009, 1.        ]]),\n",
       " 0.8874900920739159)"
      ]
     },
     "execution_count": 5,
     "metadata": {},
     "output_type": "execute_result"
    }
   ],
   "source": [
    "# коэффициент корреляции Пирсона с помощью ковариации и среднеквадратичных отклонений\n",
    "pear=cov/(zp.std(ddof=0)*ks.std(ddof=0))\n",
    "pear_=np.corrcoef(zp, ks)\n",
    "pear_pnd=zp_.corr(ks_)\n",
    "pear,pear_,pear_pnd"
   ]
  },
  {
   "cell_type": "code",
   "execution_count": 6,
   "id": "64a1d5b7",
   "metadata": {},
   "outputs": [],
   "source": [
    "# 2. Измерены значения IQ выборки студентов,\n",
    "# обучающихся в местных технических вузах:\n",
    "# 131, 125, 115, 122, 131, 115, 107, 99, 125, 111.\n",
    "# Известно, что в генеральной совокупности IQ распределен нормально.\n",
    "# Найдите доверительный интервал для математического ожидания с надежностью 0.95."
   ]
  },
  {
   "cell_type": "code",
   "execution_count": 7,
   "id": "cd842cdc",
   "metadata": {},
   "outputs": [],
   "source": [
    "iq=np.array([131, 125, 115, 122, 131, 115, 107, 99, 125, 111])"
   ]
  },
  {
   "cell_type": "code",
   "execution_count": 8,
   "id": "ed82a8ee",
   "metadata": {},
   "outputs": [
    {
     "data": {
      "text/plain": [
       "(10, 10.54566788359614, 118.1)"
      ]
     },
     "execution_count": 8,
     "metadata": {},
     "output_type": "execute_result"
    }
   ],
   "source": [
    "# количество в выборке, ско и мат ожидание\n",
    "n=iq.size\n",
    "std=iq.std(ddof=1)\n",
    "mean=iq.mean()\n",
    "n,std,mean"
   ]
  },
  {
   "cell_type": "code",
   "execution_count": 9,
   "id": "642b37f7",
   "metadata": {},
   "outputs": [
    {
     "data": {
      "text/plain": [
       "(7.543916348412745, 2.2621571627409915)"
      ]
     },
     "execution_count": 9,
     "metadata": {},
     "output_type": "execute_result"
    }
   ],
   "source": [
    "# подсчет значений z и отклонения\n",
    "z=t.ppf((1+0.95)/2,n-1)\n",
    "d=z*std/(n)**.5\n",
    "d,z"
   ]
  },
  {
   "cell_type": "code",
   "execution_count": 10,
   "id": "2a297317",
   "metadata": {},
   "outputs": [
    {
     "data": {
      "text/plain": [
       "(110.55608365158724, 125.64391634841274)"
      ]
     },
     "execution_count": 10,
     "metadata": {},
     "output_type": "execute_result"
    }
   ],
   "source": [
    "# подсчет интервала\n",
    "a=mean-d\n",
    "b=mean+d\n",
    "a,b"
   ]
  },
  {
   "cell_type": "code",
   "execution_count": 11,
   "id": "2e4146ef",
   "metadata": {},
   "outputs": [],
   "source": [
    "# 3. Известно, что рост футболистов в сборной распределен нормально\n",
    "# с дисперсией генеральной совокупности, равной 25 кв.см. Объем выборки равен 27,\n",
    "# среднее выборочное составляет 174.2. Найдите доверительный интервал для математического\n",
    "# ожидания с надежностью 0.95"
   ]
  },
  {
   "cell_type": "code",
   "execution_count": 12,
   "id": "25232e1e",
   "metadata": {},
   "outputs": [],
   "source": [
    "var=25\n",
    "std=(var)**.5\n",
    "n=27\n",
    "mean=174.2"
   ]
  },
  {
   "cell_type": "code",
   "execution_count": 13,
   "id": "287d7615",
   "metadata": {},
   "outputs": [
    {
     "data": {
      "text/plain": [
       "(1.977934124546103, 2.055529438642871)"
      ]
     },
     "execution_count": 13,
     "metadata": {},
     "output_type": "execute_result"
    }
   ],
   "source": [
    "# подсчет значений z и отклонения\n",
    "z=t.ppf((1+0.95)/2,n-1)\n",
    "d=z*std/(n)**.5\n",
    "d,z"
   ]
  },
  {
   "cell_type": "code",
   "execution_count": 14,
   "id": "e2031118",
   "metadata": {},
   "outputs": [
    {
     "data": {
      "text/plain": [
       "(172.2220658754539, 176.17793412454608)"
      ]
     },
     "execution_count": 14,
     "metadata": {},
     "output_type": "execute_result"
    }
   ],
   "source": [
    "# считаем интервал\n",
    "a=mean-d\n",
    "b=mean+d\n",
    "a,b"
   ]
  }
 ],
 "metadata": {
  "kernelspec": {
   "display_name": "Python 3 (ipykernel)",
   "language": "python",
   "name": "python3"
  },
  "language_info": {
   "codemirror_mode": {
    "name": "ipython",
    "version": 3
   },
   "file_extension": ".py",
   "mimetype": "text/x-python",
   "name": "python",
   "nbconvert_exporter": "python",
   "pygments_lexer": "ipython3",
   "version": "3.7.9"
  }
 },
 "nbformat": 4,
 "nbformat_minor": 5
}
